{
 "cells": [
  {
   "cell_type": "markdown",
   "metadata": {},
   "source": [
    "## Test: FaceImageCollector"
   ]
  },
  {
   "cell_type": "code",
   "execution_count": 2,
   "metadata": {},
   "outputs": [
    {
     "name": "stdout",
     "output_type": "stream",
     "text": [
      "\n",
      "Item no.: 1 --> Item name = george clooney\n",
      "Evaluating...\n",
      "Starting Download...\n",
      "Completed Image ====> 1.220px-George_Clooney_2016.jpg\n",
      "Completed Image ====> 2.MV5BMjEyMTEyOTQ0MV5BMl5BanBnXkFtZTcwNzU3NTMzNw@@._V1_UY317_CR9,0,214,317_AL_.jpg\n",
      "Completed Image ====> 3.220px-George_Clooney-4_The_Men_Who_Stare_at_Goats_TIFF09_%28cropped%29.jpg\n",
      "Completed Image ====> 4.george-clooney.jpg\n",
      "Completed Image ====> 5.416x416.jpg\n",
      "Completed Image ====> 6.george-clooney-net-worth-tequila.jpg\n",
      "Completed Image ====> 7._102457094_pa-clooney.jpg\n",
      "Completed Image ====> 8.george-clooney-steve-bannon.jpg\n",
      "Completed Image ====> 9.George_Clooney-300x300.jpg\n",
      "Completed Image ====> 10.george-clooney-5-2000.jpg\n",
      "Completed Image ====> 11.3a3bcad3-6268-4f2b-b311-fed66c99c1e9-GTY_1135794925.JPG\n",
      "Completed Image ====> 12.180710-george-clooney-mc-1010_72cdeec6f2378b476fc776bed1c7a374.JPG\n",
      "Completed Image ====> 13.George-Clooney-Cocktail-01.jpg\n",
      "Completed Image ====> 14.rs_634x950-170912102007-634.george-clooney.91217.jpg\n",
      "Invalid or missing image format. Skipping...\n",
      "Completed Image ====> 15.clooney_getty.jpg\n",
      "Completed Image ====> 16.GettyImages-1130704671.jpg\n",
      "Completed Image ====> 17.amal-george-clooney-2000.jpg\n",
      "Completed Image ====> 18.tom-cruise-george-clooney-tease-today-180713_5ff4d099c7cb334a5beb5a95e77fd8e6.jpg\n",
      "Completed Image ====> 19.GettyImages-955901100.jpg\n",
      "Completed Image ====> 20.george-clooney-the-rock.jpg\n",
      "Completed Image ====> 21.george-clooney-arrives-to-the-american-film-institutes-46th-news-photo-969527590-1534959205.jpg\n",
      "Completed Image ====> 22.george-clooney-9251385-1-402.jpg\n",
      "Completed Image ====> 23.george-clooney-getty-510x600.jpg\n",
      "Completed Image ====> 24.57331396_2432844816734178_4129541588302954496_n.jpg\n",
      "Completed Image ====> 25.george-clooney-acting.jpg\n",
      "Completed Image ====> 26.george-amal-clooney-maria-ressa_C52DEB0FDF9A4C68819A3EE04A842089.jpg\n",
      "Completed Image ====> 27.20181008194510-GettyImages-969615372.jpeg\n",
      "Completed Image ====> 28.7cdc5137-81c3-4c0b-b909-860461410167-GTY_1146353667.JPG\n",
      "Completed Image ====> 29.george-clooney-56a92c0d3df78cf772a46d09.jpg\n",
      "Completed Image ====> 30.george.jpg\n",
      "Completed Image ====> 31.amal-clooney-george-clooney-1280.jpg\n",
      "Completed Image ====> 32.29-george-clooney.w700.h700.jpg\n",
      "Completed Image ====> 33.694940094001_5807484978001_5807487650001-vs.jpg\n",
      "Invalid or missing image format. Skipping...\n",
      "Completed Image ====> 34.12-george-clooney-meghan-markle.w700.h700.jpg\n",
      "Completed Image ====> 35.amal-clooney-and-george-clooney-speak-to-prince-charles-news-photo-1135388064-1552424163.jpg\n",
      "Completed Image ====> 36.george-and-amal-clooney-attend-the-peoples-postcode-news-photo-1135794922-1552587746.jpg\n",
      "Completed Image ====> 37.george-clooney-2.jpg\n",
      "Completed Image ====> 38.the-real-reason-why-george-clooney-is-stepping-back-from-acting.jpg\n",
      "Completed Image ====> 39.hbz-george-clooney-meghan-markle-lead-1549989448.jpg\n",
      "Completed Image ====> 40.george-amal-clooney-Article-201812051852.jpg\n",
      "Completed Image ====> 41.170px-George_Clooney_1995.jpg\n",
      "Completed Image ====> 42.Amal-and-George-Clooney-1500.jpg\n",
      "Completed Image ====> 43.2018_06_08_47309_1528448346._large.jpg\n",
      "Completed Image ====> 44.george-clooney-1.jpg\n",
      "Completed Image ====> 45.180214144900-george-clooney---creators-exlarge-169.jpg\n",
      "Completed Image ====> 46.george-clooney-amal-awards-t.jpg\n",
      "Completed Image ====> 47.467857169.jpg\n",
      "Completed Image ====> 48.10-george-clooney.w330.h330.jpg\n",
      "Completed Image ====> 49.george-amal-vogue-15juen17-getty_b.jpg\n",
      "Completed Image ====> 50._106226267_gettyimages-969467952.jpg\n",
      "Completed Image ====> 51.SVWYSQIL7IYDNPDFTXY6V3XTLE.jpg\n",
      "Completed Image ====> 52.george-clooney-variety-cover-story-1000.jpg\n",
      "Completed Image ====> 53.2.41779559.jpg\n",
      "Completed Image ====> 54.profile_george_clooney2_0.jpg\n",
      "Completed Image ====> 55.gettyimages-530968688-h_2018.jpg\n",
      "Completed Image ====> 56.GeorgeAmalClooney.jpg\n",
      "Completed Image ====> 57.George-Clooney-and-Ben-Affleck-Batman.jpg\n",
      "Completed Image ====> 58.Julia-Roberts-to-present-George-Clooney-with-AFI-Award.jpg\n",
      "Completed Image ====> 59.640_george_clooney_20130120_159272928.jpg\n",
      "Completed Image ====> 60.george-clooney_sc_768x1024.png\n",
      "Completed Image ====> 61.George-Clooney-Amal-Clooney-Second-Honeymoon.jpg\n",
      "Completed Image ====> 62.Oscars-2018-Pre-Party-Sat-3.2-_0001_MPTF-Night-Before-2018-Credit-Getty-Images.jpg\n",
      "Completed Image ====> 63.250px-George_Clooney_2012.jpg\n",
      "Completed Image ====> 64.GettyImages-841906530-624x416.jpg\n",
      "Completed Image ====> 65.903ae2e43c3c3c6ea1890796fb98ea4e.jpg\n",
      "Completed Image ====> 66.george-clooney_glamour_7nov17_gettyimages-845481730_p.jpg\n",
      "Completed Image ====> 67.bacfaf-20180710-george-clooney.jpg\n",
      "Completed Image ====> 68.george-clooney-smiling-t.jpg\n",
      "Completed Image ====> 69.maxresdefault.jpg\n",
      "Completed Image ====> 70.gettyimages-845158690.jpg\n",
      "Completed Image ====> 71.14-amal-clooney-george-clooney.w700.h700.jpg\n",
      "Invalid or missing image format. Skipping...\n",
      "Completed Image ====> 72.110505-clooney-50.grid-6x2.jpg\n",
      "Completed Image ====> 73.George-Clooney-reflects-on-ER-It-was-life-changing.jpg\n",
      "Completed Image ====> 74.george-amal-clooney1.jpg\n",
      "Invalid or missing image format. Skipping...\n",
      "Completed Image ====> 75.thr_splash_clooney.jpg\n",
      "Completed Image ====> 76.636623055144528048-AP-Britain-Royal-Wedding.1.jpg\n",
      "Completed Image ====> 77.George-and-amal-clooney---meghan-markle-and-prince-harry.jpg\n",
      "Completed Image ====> 78.Julia-Roberts-Discusses-Her-Love-For-George-Clooney.jpg\n",
      "Completed Image ====> 79.george-clooney-million-dollars-suit-cases.jpg\n",
      "Completed Image ====> 80.George-Clooney-june-2018-billboard-1548.jpg\n",
      "Completed Image ====> 81.george-clooney-meghan-harry-praise-t.jpg\n",
      "Completed Image ====> 82.13232764-0-image-m-54_1557300177209.jpg\n",
      "Completed Image ====> 83.cropped_clooney_kimmel_2.JPG\n",
      "Completed Image ====> 84.uploads%252Fcard%252Fimage%252F616837%252F4de854dc-802c-4418-a9e6-4b5142c81278.jpg\n",
      "Completed Image ====> 85.large_hmRbp1g25AMq4Bn9fi1MnDwgdOVuWFhFidq7r3HYW38.jpg\n",
      "Completed Image ====> 86.Sexy-George-Clooney-Pictures.jpg\n",
      "Completed Image ====> 87.NBF2019-george-clooney-2018-600x587.jpg\n",
      "Completed Image ====> 88.george-and-amal-clooney.jpg\n",
      "Completed Image ====> 89.George-Clooney-Twins-Nannies.jpg\n",
      "Completed Image ====> 90.brad-pitt-george-clooney-et-matt-damon-pour.jpg\n",
      "Completed Image ====> 91.george-clooney-christopher-abbott-variety-cover-story-1000-16x9.jpg\n",
      "Completed Image ====> 92.Amal-Clooney-George-Clooney-s-wife-spoke-out-about-George-s-gentleman-traits-1008063.jpg\n",
      "Completed Image ====> 93.george-clooney-2.jpg\n",
      "Completed Image ====> 94.gettyimages-841910464.jpg\n",
      "Completed Image ====> 95.george-amal-clooney-harry-meghan-royal-wedding-reception.jpg\n",
      "Completed Image ====> 96.george-clooney-6.jpg\n",
      "\n",
      "\n",
      "Unfortunately all 100 could not be downloaded because some images were not downloadable. 96 is all we got for this search filter!\n",
      "\n",
      "Errors: 4\n",
      "\n"
     ]
    }
   ],
   "source": [
    "from scripts.data_collector import FaceImageCollector\n",
    "\n",
    "collector = FaceImageCollector()\n",
    "collector.collect('george clooney', 'dataset', 100)"
   ]
  },
  {
   "cell_type": "markdown",
   "metadata": {},
   "source": [
    "### Test: Train"
   ]
  },
  {
   "cell_type": "code",
   "execution_count": 1,
   "metadata": {},
   "outputs": [
    {
     "name": "stderr",
     "output_type": "stream",
     "text": [
      "Using TensorFlow backend.\n"
     ]
    },
    {
     "name": "stdout",
     "output_type": "stream",
     "text": [
      "WARNING:tensorflow:From /home/ec2-user/anaconda3/envs/tensorflow_p36/lib/python3.6/site-packages/tensorflow/python/framework/op_def_library.py:263: colocate_with (from tensorflow.python.framework.ops) is deprecated and will be removed in a future version.\n",
      "Instructions for updating:\n",
      "Colocations handled automatically by placer.\n",
      "[TEST] add_network: name: decoder_a\n",
      "[TEST] add_network: name: decoder_b\n",
      "[TEST] add_network: name: encoder\n"
     ]
    },
    {
     "ename": "ValueError",
     "evalue": "number of input channels does not match corresponding dimension of filter, 2048 != 512",
     "output_type": "error",
     "traceback": [
      "\u001b[0;31m---------------------------------------------------------------------------\u001b[0m",
      "\u001b[0;31mValueError\u001b[0m                                Traceback (most recent call last)",
      "\u001b[0;32m<ipython-input-1-fb8312963455>\u001b[0m in \u001b[0;36m<module>\u001b[0;34m()\u001b[0m\n\u001b[1;32m      8\u001b[0m \u001b[0mmodel_dir\u001b[0m \u001b[0;34m=\u001b[0m \u001b[0;34m'dataset/models'\u001b[0m\u001b[0;34m\u001b[0m\u001b[0m\n\u001b[1;32m      9\u001b[0m \u001b[0mtrain\u001b[0m \u001b[0;34m=\u001b[0m \u001b[0mTrain\u001b[0m\u001b[0;34m(\u001b[0m\u001b[0mtrainer_name\u001b[0m\u001b[0;34m,\u001b[0m \u001b[0mbatch_size\u001b[0m\u001b[0;34m,\u001b[0m \u001b[0miterations\u001b[0m\u001b[0;34m,\u001b[0m \u001b[0minput_A\u001b[0m\u001b[0;34m,\u001b[0m \u001b[0minput_B\u001b[0m\u001b[0;34m,\u001b[0m \u001b[0mmodel_dir\u001b[0m\u001b[0;34m)\u001b[0m\u001b[0;34m\u001b[0m\u001b[0m\n\u001b[0;32m---> 10\u001b[0;31m \u001b[0mtrain\u001b[0m\u001b[0;34m.\u001b[0m\u001b[0mprocess\u001b[0m\u001b[0;34m(\u001b[0m\u001b[0;34m)\u001b[0m\u001b[0;34m\u001b[0m\u001b[0m\n\u001b[0m",
      "\u001b[0;32m~/SageMaker/DeepVideoFaceSwap/scripts/train.py\u001b[0m in \u001b[0;36mprocess\u001b[0;34m(self)\u001b[0m\n\u001b[1;32m     37\u001b[0m     \u001b[0;32mdef\u001b[0m \u001b[0mprocess\u001b[0m\u001b[0;34m(\u001b[0m\u001b[0mself\u001b[0m\u001b[0;34m)\u001b[0m\u001b[0;34m:\u001b[0m\u001b[0;34m\u001b[0m\u001b[0m\n\u001b[1;32m     38\u001b[0m         \u001b[0mlogger\u001b[0m\u001b[0;34m.\u001b[0m\u001b[0mdebug\u001b[0m\u001b[0;34m(\u001b[0m\u001b[0;34m\"Starting Training Process\"\u001b[0m\u001b[0;34m)\u001b[0m\u001b[0;34m\u001b[0m\u001b[0m\n\u001b[0;32m---> 39\u001b[0;31m         \u001b[0mself\u001b[0m\u001b[0;34m.\u001b[0m\u001b[0m_training\u001b[0m\u001b[0;34m(\u001b[0m\u001b[0;34m)\u001b[0m\u001b[0;34m\u001b[0m\u001b[0m\n\u001b[0m\u001b[1;32m     40\u001b[0m \u001b[0;34m\u001b[0m\u001b[0m\n\u001b[1;32m     41\u001b[0m \u001b[0;34m\u001b[0m\u001b[0m\n",
      "\u001b[0;32m~/SageMaker/DeepVideoFaceSwap/scripts/train.py\u001b[0m in \u001b[0;36m_training\u001b[0;34m(self)\u001b[0m\n\u001b[1;32m    103\u001b[0m             \u001b[0mexit\u001b[0m\u001b[0;34m(\u001b[0m\u001b[0;36m0\u001b[0m\u001b[0;34m)\u001b[0m\u001b[0;34m\u001b[0m\u001b[0m\n\u001b[1;32m    104\u001b[0m         \u001b[0;32mexcept\u001b[0m \u001b[0mException\u001b[0m \u001b[0;32mas\u001b[0m \u001b[0merr\u001b[0m\u001b[0;34m:\u001b[0m\u001b[0;34m\u001b[0m\u001b[0m\n\u001b[0;32m--> 105\u001b[0;31m             \u001b[0;32mraise\u001b[0m \u001b[0merr\u001b[0m\u001b[0;34m\u001b[0m\u001b[0m\n\u001b[0m\u001b[1;32m    106\u001b[0m \u001b[0;34m\u001b[0m\u001b[0m\n\u001b[1;32m    107\u001b[0m \u001b[0;34m\u001b[0m\u001b[0m\n",
      "\u001b[0;32m~/SageMaker/DeepVideoFaceSwap/scripts/train.py\u001b[0m in \u001b[0;36m_training\u001b[0;34m(self)\u001b[0m\n\u001b[1;32m     91\u001b[0m     \u001b[0;32mdef\u001b[0m \u001b[0m_training\u001b[0m\u001b[0;34m(\u001b[0m\u001b[0mself\u001b[0m\u001b[0;34m)\u001b[0m\u001b[0;34m:\u001b[0m\u001b[0;34m\u001b[0m\u001b[0m\n\u001b[1;32m     92\u001b[0m         \u001b[0;32mtry\u001b[0m\u001b[0;34m:\u001b[0m\u001b[0;34m\u001b[0m\u001b[0m\n\u001b[0;32m---> 93\u001b[0;31m             \u001b[0mmodel\u001b[0m \u001b[0;34m=\u001b[0m \u001b[0mself\u001b[0m\u001b[0;34m.\u001b[0m\u001b[0m_load_model\u001b[0m\u001b[0;34m(\u001b[0m\u001b[0;34m)\u001b[0m\u001b[0;34m\u001b[0m\u001b[0m\n\u001b[0m\u001b[1;32m     94\u001b[0m             \u001b[0mtrainer\u001b[0m \u001b[0;34m=\u001b[0m \u001b[0mself\u001b[0m\u001b[0;34m.\u001b[0m\u001b[0m_load_trainer\u001b[0m\u001b[0;34m(\u001b[0m\u001b[0mmodel\u001b[0m\u001b[0;34m)\u001b[0m\u001b[0;34m\u001b[0m\u001b[0m\n\u001b[1;32m     95\u001b[0m             \u001b[0mself\u001b[0m\u001b[0;34m.\u001b[0m\u001b[0m_run_training_cycle\u001b[0m\u001b[0;34m(\u001b[0m\u001b[0mmode\u001b[0m\u001b[0;34m,\u001b[0m \u001b[0mtrainer\u001b[0m\u001b[0;34m)\u001b[0m\u001b[0;34m\u001b[0m\u001b[0m\n",
      "\u001b[0;32m~/SageMaker/DeepVideoFaceSwap/scripts/train.py\u001b[0m in \u001b[0;36m_load_model\u001b[0;34m(self)\u001b[0m\n\u001b[1;32m     68\u001b[0m                       \u001b[0mself\u001b[0m\u001b[0;34m.\u001b[0m\u001b[0mnum_gpu\u001b[0m\u001b[0;34m,\u001b[0m\u001b[0;34m\u001b[0m\u001b[0m\n\u001b[1;32m     69\u001b[0m                       \u001b[0mtraining_image_size\u001b[0m\u001b[0;34m=\u001b[0m\u001b[0mself\u001b[0m\u001b[0;34m.\u001b[0m\u001b[0mimage_size\u001b[0m\u001b[0;34m,\u001b[0m\u001b[0;34m\u001b[0m\u001b[0m\n\u001b[0;32m---> 70\u001b[0;31m                       predict=False)\n\u001b[0m\u001b[1;32m     71\u001b[0m         \u001b[0;32mreturn\u001b[0m \u001b[0mmodel\u001b[0m\u001b[0;34m\u001b[0m\u001b[0m\n\u001b[1;32m     72\u001b[0m \u001b[0;34m\u001b[0m\u001b[0m\n",
      "\u001b[0;32m~/SageMaker/DeepVideoFaceSwap/plugins/train/model/original.py\u001b[0m in \u001b[0;36m__init__\u001b[0;34m(self, *args, **kwargs)\u001b[0m\n\u001b[1;32m     16\u001b[0m \u001b[0;34m\u001b[0m\u001b[0m\n\u001b[1;32m     17\u001b[0m         \u001b[0mkwargs\u001b[0m\u001b[0;34m[\u001b[0m\u001b[0;34m'trainer_name'\u001b[0m\u001b[0;34m]\u001b[0m \u001b[0;34m=\u001b[0m \u001b[0;34m'original'\u001b[0m\u001b[0;34m\u001b[0m\u001b[0m\n\u001b[0;32m---> 18\u001b[0;31m         \u001b[0msuper\u001b[0m\u001b[0;34m(\u001b[0m\u001b[0;34m)\u001b[0m\u001b[0;34m.\u001b[0m\u001b[0m__init__\u001b[0m\u001b[0;34m(\u001b[0m\u001b[0;34m*\u001b[0m\u001b[0margs\u001b[0m\u001b[0;34m,\u001b[0m \u001b[0;34m**\u001b[0m\u001b[0mkwargs\u001b[0m\u001b[0;34m)\u001b[0m\u001b[0;34m\u001b[0m\u001b[0m\n\u001b[0m\u001b[1;32m     19\u001b[0m \u001b[0;34m\u001b[0m\u001b[0m\n\u001b[1;32m     20\u001b[0m \u001b[0;34m\u001b[0m\u001b[0m\n",
      "\u001b[0;32m~/SageMaker/DeepVideoFaceSwap/plugins/train/model/_base.py\u001b[0m in \u001b[0;36m__init__\u001b[0;34m(self, model_dir, num_gpu, input_shape, encoder_dim, training_image_size, trainer_name, predict)\u001b[0m\n\u001b[1;32m     50\u001b[0m         \u001b[0mself\u001b[0m\u001b[0;34m.\u001b[0m\u001b[0mhistory\u001b[0m \u001b[0;34m=\u001b[0m \u001b[0mdict\u001b[0m\u001b[0;34m(\u001b[0m\u001b[0;34m)\u001b[0m             \u001b[0;31m# Loss history per save iteration\u001b[0m\u001b[0;34m\u001b[0m\u001b[0m\n\u001b[1;32m     51\u001b[0m \u001b[0;34m\u001b[0m\u001b[0m\n\u001b[0;32m---> 52\u001b[0;31m         \u001b[0mself\u001b[0m\u001b[0;34m.\u001b[0m\u001b[0mbuild\u001b[0m\u001b[0;34m(\u001b[0m\u001b[0;34m)\u001b[0m\u001b[0;34m\u001b[0m\u001b[0m\n\u001b[0m\u001b[1;32m     53\u001b[0m \u001b[0;34m\u001b[0m\u001b[0m\n\u001b[1;32m     54\u001b[0m \u001b[0;34m\u001b[0m\u001b[0m\n",
      "\u001b[0;32m~/SageMaker/DeepVideoFaceSwap/plugins/train/model/_base.py\u001b[0m in \u001b[0;36mbuild\u001b[0;34m(self)\u001b[0m\n\u001b[1;32m    201\u001b[0m         \u001b[0mself\u001b[0m\u001b[0;34m.\u001b[0m\u001b[0madd_networks\u001b[0m\u001b[0;34m(\u001b[0m\u001b[0;34m)\u001b[0m\u001b[0;34m\u001b[0m\u001b[0m\n\u001b[1;32m    202\u001b[0m         \u001b[0mself\u001b[0m\u001b[0;34m.\u001b[0m\u001b[0mload_models\u001b[0m\u001b[0;34m(\u001b[0m\u001b[0mswapped\u001b[0m\u001b[0;34m=\u001b[0m\u001b[0;32mFalse\u001b[0m\u001b[0;34m)\u001b[0m\u001b[0;34m\u001b[0m\u001b[0m\n\u001b[0;32m--> 203\u001b[0;31m         \u001b[0mself\u001b[0m\u001b[0;34m.\u001b[0m\u001b[0mbuild_autoencoders\u001b[0m\u001b[0;34m(\u001b[0m\u001b[0;34m)\u001b[0m\u001b[0;34m\u001b[0m\u001b[0m\n\u001b[0m\u001b[1;32m    204\u001b[0m         \u001b[0mself\u001b[0m\u001b[0;34m.\u001b[0m\u001b[0mcompile_predictors\u001b[0m\u001b[0;34m(\u001b[0m\u001b[0minitialize\u001b[0m\u001b[0;34m=\u001b[0m\u001b[0;32mTrue\u001b[0m\u001b[0;34m)\u001b[0m\u001b[0;34m\u001b[0m\u001b[0m\n\u001b[1;32m    205\u001b[0m \u001b[0;34m\u001b[0m\u001b[0m\n",
      "\u001b[0;32m~/SageMaker/DeepVideoFaceSwap/plugins/train/model/original.py\u001b[0m in \u001b[0;36mbuild_autoencoders\u001b[0;34m(self)\u001b[0m\n\u001b[1;32m     30\u001b[0m         \u001b[0;32mfor\u001b[0m \u001b[0mside\u001b[0m \u001b[0;32min\u001b[0m \u001b[0;34m(\u001b[0m\u001b[0;34m'a'\u001b[0m\u001b[0;34m,\u001b[0m \u001b[0;34m'b'\u001b[0m\u001b[0;34m)\u001b[0m\u001b[0;34m:\u001b[0m\u001b[0;34m\u001b[0m\u001b[0m\n\u001b[1;32m     31\u001b[0m             \u001b[0mdecoder\u001b[0m \u001b[0;34m=\u001b[0m \u001b[0mself\u001b[0m\u001b[0;34m.\u001b[0m\u001b[0mnetworks\u001b[0m\u001b[0;34m[\u001b[0m\u001b[0;34m'decoder_{}'\u001b[0m\u001b[0;34m.\u001b[0m\u001b[0mformat\u001b[0m\u001b[0;34m(\u001b[0m\u001b[0mside\u001b[0m\u001b[0;34m)\u001b[0m\u001b[0;34m]\u001b[0m\u001b[0;34m.\u001b[0m\u001b[0mnetwork\u001b[0m\u001b[0;34m\u001b[0m\u001b[0m\n\u001b[0;32m---> 32\u001b[0;31m             \u001b[0moutput\u001b[0m \u001b[0;34m=\u001b[0m \u001b[0mdecoder\u001b[0m\u001b[0;34m(\u001b[0m\u001b[0mself\u001b[0m\u001b[0;34m.\u001b[0m\u001b[0mnetworks\u001b[0m\u001b[0;34m[\u001b[0m\u001b[0;34m'encoder'\u001b[0m\u001b[0;34m]\u001b[0m\u001b[0;34m.\u001b[0m\u001b[0mnetwork\u001b[0m\u001b[0;34m(\u001b[0m\u001b[0minputs\u001b[0m\u001b[0;34m[\u001b[0m\u001b[0;36m0\u001b[0m\u001b[0;34m]\u001b[0m\u001b[0;34m)\u001b[0m\u001b[0;34m)\u001b[0m\u001b[0;34m\u001b[0m\u001b[0m\n\u001b[0m\u001b[1;32m     33\u001b[0m             \u001b[0mautoencoder\u001b[0m \u001b[0;34m=\u001b[0m \u001b[0mKerasModel\u001b[0m\u001b[0;34m(\u001b[0m\u001b[0minputs\u001b[0m\u001b[0;34m,\u001b[0m \u001b[0moutput\u001b[0m\u001b[0;34m)\u001b[0m\u001b[0;34m\u001b[0m\u001b[0m\n\u001b[1;32m     34\u001b[0m             \u001b[0mself\u001b[0m\u001b[0;34m.\u001b[0m\u001b[0madd_predictor\u001b[0m\u001b[0;34m(\u001b[0m\u001b[0mside\u001b[0m\u001b[0;34m,\u001b[0m \u001b[0mautoencoder\u001b[0m\u001b[0;34m)\u001b[0m\u001b[0;34m\u001b[0m\u001b[0m\n",
      "\u001b[0;32m~/anaconda3/envs/tensorflow_p36/lib/python3.6/site-packages/keras/engine/base_layer.py\u001b[0m in \u001b[0;36m__call__\u001b[0;34m(self, inputs, **kwargs)\u001b[0m\n\u001b[1;32m    455\u001b[0m             \u001b[0;31m# Actually call the layer,\u001b[0m\u001b[0;34m\u001b[0m\u001b[0;34m\u001b[0m\u001b[0m\n\u001b[1;32m    456\u001b[0m             \u001b[0;31m# collecting output(s), mask(s), and shape(s).\u001b[0m\u001b[0;34m\u001b[0m\u001b[0;34m\u001b[0m\u001b[0m\n\u001b[0;32m--> 457\u001b[0;31m             \u001b[0moutput\u001b[0m \u001b[0;34m=\u001b[0m \u001b[0mself\u001b[0m\u001b[0;34m.\u001b[0m\u001b[0mcall\u001b[0m\u001b[0;34m(\u001b[0m\u001b[0minputs\u001b[0m\u001b[0;34m,\u001b[0m \u001b[0;34m**\u001b[0m\u001b[0mkwargs\u001b[0m\u001b[0;34m)\u001b[0m\u001b[0;34m\u001b[0m\u001b[0m\n\u001b[0m\u001b[1;32m    458\u001b[0m             \u001b[0moutput_mask\u001b[0m \u001b[0;34m=\u001b[0m \u001b[0mself\u001b[0m\u001b[0;34m.\u001b[0m\u001b[0mcompute_mask\u001b[0m\u001b[0;34m(\u001b[0m\u001b[0minputs\u001b[0m\u001b[0;34m,\u001b[0m \u001b[0mprevious_mask\u001b[0m\u001b[0;34m)\u001b[0m\u001b[0;34m\u001b[0m\u001b[0m\n\u001b[1;32m    459\u001b[0m \u001b[0;34m\u001b[0m\u001b[0m\n",
      "\u001b[0;32m~/anaconda3/envs/tensorflow_p36/lib/python3.6/site-packages/keras/engine/network.py\u001b[0m in \u001b[0;36mcall\u001b[0;34m(self, inputs, mask)\u001b[0m\n\u001b[1;32m    562\u001b[0m             \u001b[0;32mreturn\u001b[0m \u001b[0mself\u001b[0m\u001b[0;34m.\u001b[0m\u001b[0m_output_tensor_cache\u001b[0m\u001b[0;34m[\u001b[0m\u001b[0mcache_key\u001b[0m\u001b[0;34m]\u001b[0m\u001b[0;34m\u001b[0m\u001b[0m\n\u001b[1;32m    563\u001b[0m         \u001b[0;32melse\u001b[0m\u001b[0;34m:\u001b[0m\u001b[0;34m\u001b[0m\u001b[0m\n\u001b[0;32m--> 564\u001b[0;31m             \u001b[0moutput_tensors\u001b[0m\u001b[0;34m,\u001b[0m \u001b[0m_\u001b[0m\u001b[0;34m,\u001b[0m \u001b[0m_\u001b[0m \u001b[0;34m=\u001b[0m \u001b[0mself\u001b[0m\u001b[0;34m.\u001b[0m\u001b[0mrun_internal_graph\u001b[0m\u001b[0;34m(\u001b[0m\u001b[0minputs\u001b[0m\u001b[0;34m,\u001b[0m \u001b[0mmasks\u001b[0m\u001b[0;34m)\u001b[0m\u001b[0;34m\u001b[0m\u001b[0m\n\u001b[0m\u001b[1;32m    565\u001b[0m             \u001b[0;32mreturn\u001b[0m \u001b[0moutput_tensors\u001b[0m\u001b[0;34m\u001b[0m\u001b[0m\n\u001b[1;32m    566\u001b[0m \u001b[0;34m\u001b[0m\u001b[0m\n",
      "\u001b[0;32m~/anaconda3/envs/tensorflow_p36/lib/python3.6/site-packages/keras/engine/network.py\u001b[0m in \u001b[0;36mrun_internal_graph\u001b[0;34m(self, inputs, masks)\u001b[0m\n\u001b[1;32m    719\u001b[0m                                     \u001b[0mkwargs\u001b[0m\u001b[0;34m[\u001b[0m\u001b[0;34m'mask'\u001b[0m\u001b[0;34m]\u001b[0m \u001b[0;34m=\u001b[0m \u001b[0mcomputed_mask\u001b[0m\u001b[0;34m\u001b[0m\u001b[0m\n\u001b[1;32m    720\u001b[0m                             output_tensors = to_list(\n\u001b[0;32m--> 721\u001b[0;31m                                 layer.call(computed_tensor, **kwargs))\n\u001b[0m\u001b[1;32m    722\u001b[0m                             output_masks = layer.compute_mask(computed_tensor,\n\u001b[1;32m    723\u001b[0m                                                               computed_mask)\n",
      "\u001b[0;32m~/anaconda3/envs/tensorflow_p36/lib/python3.6/site-packages/keras/layers/convolutional.py\u001b[0m in \u001b[0;36mcall\u001b[0;34m(self, inputs)\u001b[0m\n\u001b[1;32m    169\u001b[0m                 \u001b[0mpadding\u001b[0m\u001b[0;34m=\u001b[0m\u001b[0mself\u001b[0m\u001b[0;34m.\u001b[0m\u001b[0mpadding\u001b[0m\u001b[0;34m,\u001b[0m\u001b[0;34m\u001b[0m\u001b[0m\n\u001b[1;32m    170\u001b[0m                 \u001b[0mdata_format\u001b[0m\u001b[0;34m=\u001b[0m\u001b[0mself\u001b[0m\u001b[0;34m.\u001b[0m\u001b[0mdata_format\u001b[0m\u001b[0;34m,\u001b[0m\u001b[0;34m\u001b[0m\u001b[0m\n\u001b[0;32m--> 171\u001b[0;31m                 dilation_rate=self.dilation_rate)\n\u001b[0m\u001b[1;32m    172\u001b[0m         \u001b[0;32mif\u001b[0m \u001b[0mself\u001b[0m\u001b[0;34m.\u001b[0m\u001b[0mrank\u001b[0m \u001b[0;34m==\u001b[0m \u001b[0;36m3\u001b[0m\u001b[0;34m:\u001b[0m\u001b[0;34m\u001b[0m\u001b[0m\n\u001b[1;32m    173\u001b[0m             outputs = K.conv3d(\n",
      "\u001b[0;32m~/anaconda3/envs/tensorflow_p36/lib/python3.6/site-packages/keras/backend/tensorflow_backend.py\u001b[0m in \u001b[0;36mconv2d\u001b[0;34m(x, kernel, strides, padding, data_format, dilation_rate)\u001b[0m\n\u001b[1;32m   3648\u001b[0m         \u001b[0mstrides\u001b[0m\u001b[0;34m=\u001b[0m\u001b[0mstrides\u001b[0m\u001b[0;34m,\u001b[0m\u001b[0;34m\u001b[0m\u001b[0m\n\u001b[1;32m   3649\u001b[0m         \u001b[0mpadding\u001b[0m\u001b[0;34m=\u001b[0m\u001b[0mpadding\u001b[0m\u001b[0;34m,\u001b[0m\u001b[0;34m\u001b[0m\u001b[0m\n\u001b[0;32m-> 3650\u001b[0;31m         data_format=tf_data_format)\n\u001b[0m\u001b[1;32m   3651\u001b[0m \u001b[0;34m\u001b[0m\u001b[0m\n\u001b[1;32m   3652\u001b[0m     \u001b[0;32mif\u001b[0m \u001b[0mdata_format\u001b[0m \u001b[0;34m==\u001b[0m \u001b[0;34m'channels_first'\u001b[0m \u001b[0;32mand\u001b[0m \u001b[0mtf_data_format\u001b[0m \u001b[0;34m==\u001b[0m \u001b[0;34m'NHWC'\u001b[0m\u001b[0;34m:\u001b[0m\u001b[0;34m\u001b[0m\u001b[0m\n",
      "\u001b[0;32m~/anaconda3/envs/tensorflow_p36/lib/python3.6/site-packages/tensorflow/python/ops/nn_ops.py\u001b[0m in \u001b[0;36mconvolution\u001b[0;34m(input, filter, padding, strides, dilation_rate, name, data_format)\u001b[0m\n\u001b[1;32m    848\u001b[0m         \u001b[0mdilation_rate\u001b[0m\u001b[0;34m=\u001b[0m\u001b[0mdilation_rate\u001b[0m\u001b[0;34m,\u001b[0m\u001b[0;34m\u001b[0m\u001b[0m\n\u001b[1;32m    849\u001b[0m         \u001b[0mname\u001b[0m\u001b[0;34m=\u001b[0m\u001b[0mname\u001b[0m\u001b[0;34m,\u001b[0m\u001b[0;34m\u001b[0m\u001b[0m\n\u001b[0;32m--> 850\u001b[0;31m         data_format=data_format)\n\u001b[0m\u001b[1;32m    851\u001b[0m     \u001b[0;32mreturn\u001b[0m \u001b[0mop\u001b[0m\u001b[0;34m(\u001b[0m\u001b[0minput\u001b[0m\u001b[0;34m,\u001b[0m \u001b[0mfilter\u001b[0m\u001b[0;34m)\u001b[0m\u001b[0;34m\u001b[0m\u001b[0m\n\u001b[1;32m    852\u001b[0m \u001b[0;34m\u001b[0m\u001b[0m\n",
      "\u001b[0;32m~/anaconda3/envs/tensorflow_p36/lib/python3.6/site-packages/tensorflow/python/ops/nn_ops.py\u001b[0m in \u001b[0;36m__init__\u001b[0;34m(self, input_shape, filter_shape, padding, strides, dilation_rate, name, data_format)\u001b[0m\n\u001b[1;32m    935\u001b[0m           \u001b[0;34m\"number of input channels does not match corresponding dimension of \"\u001b[0m\u001b[0;34m\u001b[0m\u001b[0m\n\u001b[1;32m    936\u001b[0m           \"filter, {} != {}\".format(input_channels_dim,\n\u001b[0;32m--> 937\u001b[0;31m                                     filter_shape[num_spatial_dims]))\n\u001b[0m\u001b[1;32m    938\u001b[0m \u001b[0;34m\u001b[0m\u001b[0m\n\u001b[1;32m    939\u001b[0m     strides, dilation_rate = _get_strides_and_dilation_rate(\n",
      "\u001b[0;31mValueError\u001b[0m: number of input channels does not match corresponding dimension of filter, 2048 != 512"
     ]
    }
   ],
   "source": [
    "from scripts.train import Train\n",
    "\n",
    "trainer_name = 'original'\n",
    "batch_size = 10\n",
    "iterations = 10\n",
    "input_A = 'dataset/faces/george clooney/frontal'\n",
    "input_B = 'dataset/faces/george clooney/frontal'\n",
    "model_dir = 'dataset/models'\n",
    "train = Train(trainer_name, batch_size, iterations, input_A, input_B, model_dir)\n",
    "train.process()"
   ]
  }
 ],
 "metadata": {
  "kernelspec": {
   "display_name": "conda_tensorflow_p36",
   "language": "python",
   "name": "conda_tensorflow_p36"
  },
  "language_info": {
   "codemirror_mode": {
    "name": "ipython",
    "version": 3
   },
   "file_extension": ".py",
   "mimetype": "text/x-python",
   "name": "python",
   "nbconvert_exporter": "python",
   "pygments_lexer": "ipython3",
   "version": "3.6.5"
  }
 },
 "nbformat": 4,
 "nbformat_minor": 2
}
