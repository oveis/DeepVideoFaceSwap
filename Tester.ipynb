{
 "cells": [
  {
   "cell_type": "markdown",
   "metadata": {},
   "source": [
    "## Test: FaceImageCollector"
   ]
  },
  {
   "cell_type": "code",
   "execution_count": null,
   "metadata": {},
   "outputs": [],
   "source": [
    "from scripts.data_collector import FaceImageCollector\n",
    "\n",
    "collector = FaceImageCollector()\n",
    "collector.collect('george clooney', 'dataset', 10, (64, 64))"
   ]
  },
  {
   "cell_type": "markdown",
   "metadata": {},
   "source": [
    "### Test: Train"
   ]
  },
  {
   "cell_type": "code",
   "execution_count": null,
   "metadata": {},
   "outputs": [],
   "source": [
    "from scripts.train import Train\n",
    "\n",
    "trainer_name = 'original'\n",
    "batch_size = 2048\n",
    "iterations = 10\n",
    "input_A = 'dataset/faces/george clooney/frontal'\n",
    "input_B = 'dataset/faces/george clooney/frontal'\n",
    "model_dir = 'dataset/models'\n",
    "train = Train(trainer_name, batch_size, iterations, input_A, input_B, model_dir)\n",
    "train.process()"
   ]
  },
  {
   "cell_type": "code",
   "execution_count": null,
   "metadata": {},
   "outputs": [],
   "source": []
  }
 ],
 "metadata": {
  "kernelspec": {
   "display_name": "conda_tensorflow_p36",
   "language": "python",
   "name": "conda_tensorflow_p36"
  },
  "language_info": {
   "codemirror_mode": {
    "name": "ipython",
    "version": 3
   },
   "file_extension": ".py",
   "mimetype": "text/x-python",
   "name": "python",
   "nbconvert_exporter": "python",
   "pygments_lexer": "ipython3",
   "version": "3.6.5"
  }
 },
 "nbformat": 4,
 "nbformat_minor": 2
}
